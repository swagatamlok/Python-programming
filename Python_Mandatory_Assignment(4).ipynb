{
  "nbformat": 4,
  "nbformat_minor": 0,
  "metadata": {
    "kernelspec": {
      "display_name": "Python 3",
      "language": "python",
      "name": "python3"
    },
    "language_info": {
      "codemirror_mode": {
        "name": "ipython",
        "version": 3
      },
      "file_extension": ".py",
      "mimetype": "text/x-python",
      "name": "python",
      "nbconvert_exporter": "python",
      "pygments_lexer": "ipython3",
      "version": "3.6.6"
    },
    "colab": {
      "name": "Python_Mandatory_Assignment_(1)_(4) (7).ipynb",
      "provenance": [],
      "collapsed_sections": []
    }
  },
  "cells": [
    {
      "cell_type": "markdown",
      "metadata": {
        "id": "kwx_AYQtjYZr",
        "colab_type": "text"
      },
      "source": [
        "<h1>Python: without numpy or sklearn </h1>"
      ]
    },
    {
      "cell_type": "markdown",
      "metadata": {
        "id": "FRCrAUp1jYZz",
        "colab_type": "text"
      },
      "source": [
        "<h3> Q1: Given two matrices please print the product of those two matrices </h3>\n",
        "<pre>\n",
        "\n",
        "Ex 1: A   = [[1 3 4]\n",
        "             [2 5 7]\n",
        "             [5 9 6]]\n",
        "      B   = [[1 0 0]\n",
        "             [0 1 0]\n",
        "             [0 0 1]]\n",
        "      A*B = [[1 3 4]\n",
        "             [2 5 7]\n",
        "             [5 9 6]]\n",
        "\n",
        "     \n",
        "Ex 2: A   = [[1 2]\n",
        "             [3 4]]\n",
        "      B   = [[1 2 3 4 5]\n",
        "             [5 6 7 8 9]]\n",
        "      A*B = [[11 14 17 20 23]\n",
        "             [18 24 30 36 42]]\n",
        "             \n",
        "Ex 3: A   = [[1 2]\n",
        "             [3 4]]\n",
        "      B   = [[1 4]\n",
        "             [5 6]\n",
        "             [7 8]\n",
        "             [9 6]]\n",
        "      A*B =Not possible\n",
        "</pre>"
      ]
    },
    {
      "cell_type": "code",
      "metadata": {
        "id": "xwHp8XTbT1ZI",
        "colab_type": "code",
        "colab": {}
      },
      "source": [
        "#1st way of imputing 0 matrix\n",
        "r1=int(input(print(\"enter number of row for matrics A\"))) \n",
        "c1=int(input(print(\"enter number of column for matrics A\")))\n",
        "r2=int(input(print(\"enter number of row for matrics B\")))\n",
        "c2=int(input(print(\"enter number of column for matrics B\")))\n",
        "a=[]\n",
        "c=[]\n",
        "for i in range(r1):\n",
        "  for j in range(c1):\n",
        "       c.append(0)\n",
        "  a.append(c)\n",
        "  c=[]\n",
        "print(a)\n"
      ],
      "execution_count": 0,
      "outputs": []
    },
    {
      "cell_type": "code",
      "metadata": {
        "id": "S4fuT2xQjna3",
        "colab_type": "code",
        "outputId": "19ca31b3-9691-49e3-a9c0-45f70b5c3d2c",
        "colab": {
          "base_uri": "https://localhost:8080/",
          "height": 52
        }
      },
      "source": [
        "# 2nd way of imputing 0 matrix\n",
        "A   = [[1,2],[3,4]]\n",
        "B   = [[1,2,3,4,5],[5,6,7,8,9]]\n",
        "r1=len(A) \n",
        "c1=len(A[0])\n",
        "r2=len(B)\n",
        "c2=len(B[0])\n",
        "c=[]\n",
        "d=[]\n",
        "for i in range(r1):\n",
        "  for j in range(c2):\n",
        "       c.append(0)\n",
        "  d.append(c)\n",
        "  c=[]\n",
        "print (d)\n",
        "#Multiplication process\n",
        "if (c1== r2):\n",
        "  print(\"Multiplication is possible\")\n",
        "  for i in range(r1):\n",
        "    for j in range(c2):\n",
        "      for k in range(c1):\n",
        "        c[i] [j]=c[i][j]+A[i][k]*B[k][j]\n",
        "  print (c) \n",
        "else:\n",
        "  print(\"Multiplication is not possible\")"
      ],
      "execution_count": 0,
      "outputs": [
        {
          "output_type": "stream",
          "text": [
            "Multiplication is possible\n",
            "[[1, 3, 4], [2, 5, 7], [5, 9, 6]]\n"
          ],
          "name": "stdout"
        }
      ]
    },
    {
      "cell_type": "code",
      "metadata": {
        "id": "vJGAF8rzjYZ3",
        "colab_type": "code",
        "colab": {}
      },
      "source": [
        "# write your python code here\n",
        "# you can take the above example as sample input for your program to test\n",
        "# it should work for any general input try not to hard code for only given input examples\n",
        "\n",
        "\n",
        "# you can free to change all these codes/structure\n",
        "# here A and B are list of lists\n",
        "def matrix_mul(A, B):\n",
        "    # write your code\n",
        "    return(#multiplication_of_A_and_B)\n",
        "    \n",
        "matrix_mul(A, B)"
      ],
      "execution_count": 0,
      "outputs": []
    },
    {
      "cell_type": "markdown",
      "metadata": {
        "id": "hhQAyqj9jYZ_",
        "colab_type": "text"
      },
      "source": [
        "<h3> Q2: Select a number randomly with probability proportional to its magnitude from the given array of n elements</h3>\n",
        "\n",
        "consider an experiment, selecting an element from the list A randomly with probability proportional to its magnitude.\n",
        "assume we are doing the same experiment for 100 times with replacement, in each experiment you will print a number that is selected randomly from A.\n",
        "\n",
        "<pre>\n",
        "Ex 1: A = [0 5 27 6 13 28 100 45 10 79]\n",
        "let f(x) denote the number of times x getting selected in 100 experiments.\n",
        "f(100) > f(79) > f(45) > f(28) > f(27) > f(13) > f(10) > f(6) > f(5) > f(0)\n",
        "</pre>"
      ]
    },
    {
      "cell_type": "code",
      "metadata": {
        "id": "KKi6stfpjYaC",
        "colab_type": "code",
        "colab": {}
      },
      "source": [
        "from random import uniform\n",
        "# write your python code here\n",
        "# you can take the above example as sample input for your program to test\n",
        "# it should work for any general input try not to hard code for only given input examples\n",
        "\n",
        "\n",
        "# you can free to change all these codes/structure\n",
        "def pick_a_number_from_list(A):\n",
        "    # your code here for picking an element from with the probability propotional to its magnitude\n",
        "    #.\n",
        "    #.\n",
        "    #.\n",
        "    return #selected_random_number\n",
        "\n",
        "def sampling_based_on_magnitued():\n",
        "    for i in range(1,100):\n",
        "        number = pick_a_number_from_list(A)\n",
        "        print(number)\n",
        "\n",
        "sampling_based_on_magnitued()"
      ],
      "execution_count": 0,
      "outputs": []
    },
    {
      "cell_type": "code",
      "metadata": {
        "id": "rAQkf9Xhp7lq",
        "colab_type": "code",
        "colab": {}
      },
      "source": [
        "lst =[100,5]"
      ],
      "execution_count": 0,
      "outputs": []
    },
    {
      "cell_type": "code",
      "metadata": {
        "id": "zO79mEL7RfnS",
        "colab_type": "code",
        "colab": {}
      },
      "source": [
        "\n",
        "def pick_a_number_from_list(A):\n",
        "  import random\n",
        "  A.sort(reverse=True)\n",
        "  i=0\n",
        "  j=0\n",
        "  c=[]\n",
        "  val=0\n",
        "  d= len(A)\n",
        "  for i in A:\n",
        "    for j in range(d):\n",
        "      c.insert(val,i)\n",
        "      val += 1\n",
        "    d = d- 1\n",
        "  return random.choice(c)\n"
      ],
      "execution_count": 0,
      "outputs": []
    },
    {
      "cell_type": "code",
      "metadata": {
        "id": "_2-226tUqdQc",
        "colab_type": "code",
        "colab": {}
      },
      "source": [
        "def sampling_based_on_magnitued():\n",
        "  number=[]\n",
        "  for i in range(1,100):\n",
        "    number.append(pick_a_number_from_list(lst))\n",
        "  return print(number)\n",
        "\n"
      ],
      "execution_count": 0,
      "outputs": []
    },
    {
      "cell_type": "code",
      "metadata": {
        "id": "6VIS3veSq2Bn",
        "colab_type": "code",
        "colab": {
          "base_uri": "https://localhost:8080/",
          "height": 54
        },
        "outputId": "a100b60d-e950-4f0d-d3a8-3cbd21116aba"
      },
      "source": [
        "\n",
        "sampling_based_on_magnitued()"
      ],
      "execution_count": 14,
      "outputs": [
        {
          "output_type": "stream",
          "text": [
            "[100, 100, 5, 100, 100, 100, 5, 100, 100, 5, 5, 100, 100, 100, 100, 100, 100, 5, 100, 5, 100, 100, 100, 100, 100, 5, 100, 100, 5, 5, 100, 100, 5, 100, 5, 100, 5, 100, 100, 5, 100, 100, 5, 100, 5, 100, 100, 100, 5, 5, 100, 100, 100, 5, 100, 100, 5, 100, 5, 5, 5, 100, 100, 100, 100, 5, 5, 100, 5, 5, 5, 100, 100, 5, 100, 100, 100, 5, 100, 100, 5, 100, 5, 100, 100, 100, 100, 5, 5, 100, 100, 100, 100, 100, 100, 100, 100, 100, 5]\n"
          ],
          "name": "stdout"
        }
      ]
    },
    {
      "cell_type": "code",
      "metadata": {
        "id": "siyXTNuRrBHn",
        "colab_type": "code",
        "colab": {
          "base_uri": "https://localhost:8080/",
          "height": 34
        },
        "outputId": "c261ee39-48a7-44e6-8b00-363935b227cb"
      },
      "source": [
        "type(x)"
      ],
      "execution_count": 11,
      "outputs": [
        {
          "output_type": "execute_result",
          "data": {
            "text/plain": [
              "NoneType"
            ]
          },
          "metadata": {
            "tags": []
          },
          "execution_count": 11
        }
      ]
    },
    {
      "cell_type": "code",
      "metadata": {
        "id": "yEsEOQijmhe3",
        "colab_type": "code",
        "colab": {}
      },
      "source": [
        ""
      ],
      "execution_count": 0,
      "outputs": []
    },
    {
      "cell_type": "markdown",
      "metadata": {
        "id": "O3xvPDR-jYaJ",
        "colab_type": "text"
      },
      "source": [
        "<h3> Q3: Replace the digits in the string with #</h3>\n",
        "\n",
        "Consider a string that will have digits in that, we need to remove all the characters which are not digits and replace the digits with #\n",
        "<pre>\n",
        "Ex 1: A = 234                Output: ###\n",
        "Ex 2: A = a2b3c4             Output: ###\n",
        "Ex 3: A = abc                Output:   (empty string)\n",
        "Ex 5: A = #2a$#b%c%561#      Output: ####\n",
        "</pre>"
      ]
    },
    {
      "cell_type": "code",
      "metadata": {
        "id": "HrUClooOcytQ",
        "colab_type": "code",
        "colab": {}
      },
      "source": [
        "\n",
        "def replace_digits(a):\n",
        "  import re\n",
        "  c=\"\"\n",
        "  b=[]\n",
        "  i=0\n",
        "  j=0\n",
        "  for i in range(len(a)):\n",
        "    b.append(a[i])\n",
        "  for j in range(len(b)):\n",
        "    if b[j].isdigit()==True:\n",
        "      c = c+\"#\"\n",
        "  return c"
      ],
      "execution_count": 0,
      "outputs": []
    },
    {
      "cell_type": "code",
      "metadata": {
        "id": "EOwZJOhBvypX",
        "colab_type": "code",
        "colab": {}
      },
      "source": [
        ""
      ],
      "execution_count": 0,
      "outputs": []
    },
    {
      "cell_type": "code",
      "metadata": {
        "id": "H253_PF8mpiw",
        "colab_type": "code",
        "outputId": "6100e63d-5a74-4e09-ef6a-dc65e506d528",
        "colab": {
          "base_uri": "https://localhost:8080/",
          "height": 70
        }
      },
      "source": [
        "String=str(input(print(\"Enter String\")))\n",
        "replace_digits(String)\n"
      ],
      "execution_count": 0,
      "outputs": [
        {
          "output_type": "stream",
          "text": [
            "Enter String\n",
            "Noneabc\n"
          ],
          "name": "stdout"
        },
        {
          "output_type": "execute_result",
          "data": {
            "text/plain": [
              "''"
            ]
          },
          "metadata": {
            "tags": []
          },
          "execution_count": 45
        }
      ]
    },
    {
      "cell_type": "code",
      "metadata": {
        "id": "YGffuNpzjYaM",
        "colab_type": "code",
        "colab": {}
      },
      "source": [
        "import re\n",
        "# write your python code here\n",
        "# you can take the above example as sample input for your program to test\n",
        "# it should work for any general input try not to hard code for only given input examples\n",
        "\n",
        "# you can free to change all these codes/structure\n",
        "# String: it will be the input to your program\n",
        "def replace_digits(String):\n",
        "    # write your code\n",
        "    # \n",
        "    return() # modified string which is after replacing the # with digits\n",
        "\n",
        "replace_digits(String)"
      ],
      "execution_count": 0,
      "outputs": []
    },
    {
      "cell_type": "markdown",
      "metadata": {
        "id": "1qU0xkFRjYaW",
        "colab_type": "text"
      },
      "source": [
        "<h3> Q4: Students marks dashboard</h3>\n",
        "\n",
        "Consider the marks list of class students given in two lists <br>\n",
        "Students = ['student1','student2','student3','student4','student5','student6','student7','student8','student9','student10'] <br>\n",
        "Marks = [45, 78, 12, 14, 48, 43, 45, 98, 35, 80] <br>\n",
        "from the above two lists the Student[0] got Marks[0],  Student[1] got Marks[1] and so on. <br><br>\n",
        "\n",
        "Your task is to print the name of students\n",
        "\n",
        "<strong>a. Who got top 5 ranks, in the descending order of marks</strong> <br>\n",
        "<strong>b. Who got least 5 ranks, in the increasing order of marks</strong><br>\n",
        "<strong>d. Who got marks between  &gt;25th percentile &lt;75th percentile, in the increasing order of marks.</strong>\n",
        "\n",
        "<pre>\n",
        "Ex 1: \n",
        "Students=['student1','student2','student3','student4','student5','student6','student7','student8','student9','student10'] \n",
        "Marks = [45, 78, 12, 14, 48, 43, 47, 98, 35, 80]\n",
        "\n",
        "a. \n",
        "student8  98\n",
        "student10 80\n",
        "student2  78\n",
        "student5  48\n",
        "student7  47\n",
        "\n",
        "b.\n",
        "student3 12\n",
        "student4 14\n",
        "student9 35\n",
        "student6 43\n",
        "student1 45\n",
        "\n",
        "c.\n",
        "student9 35\n",
        "student6 43\n",
        "student1 45\n",
        "student7 47\n",
        "student5 48\n",
        "</pre>"
      ]
    },
    {
      "cell_type": "code",
      "metadata": {
        "id": "_81kJ1u9jYaZ",
        "colab_type": "code",
        "colab": {}
      },
      "source": [
        "# write your python code here\n",
        "# you can take the above example as sample input for your program to test\n",
        "# it should work for any general input try not to hard code for only given input examples\n",
        "\n",
        "# you can free to change all these codes/structure\n",
        "def display_dash_board(students, marks):\n",
        "    # write code for computing top top 5 students\n",
        "    top_5_students = # compute this\n",
        "    # write code for computing top least 5 students\n",
        "    least_5_students = # compute this\n",
        "    # write code for computing top least 5 students\n",
        "    students_within_25_and_75 = # compute this\n",
        "    \n",
        "    return top_5_students, least_5_students, students_within_25_and_75\n",
        "\n",
        "top_5_students, least_5_students, students_within_25_and_75 = display_dash_board(students, marks)\n",
        "print(# those values)"
      ],
      "execution_count": 0,
      "outputs": []
    },
    {
      "cell_type": "code",
      "metadata": {
        "id": "vNqhoWGHxauH",
        "colab_type": "code",
        "colab": {}
      },
      "source": [
        "Students=['student1','student2','student3','student4','student5','student6','student7','student8','student9','student10'] \n",
        "Marks = [45, 78, 12, 14, 48, 43, 47, 98, 35, 80]"
      ],
      "execution_count": 0,
      "outputs": []
    },
    {
      "cell_type": "code",
      "metadata": {
        "id": "eA7otZOsMf0e",
        "colab_type": "code",
        "colab": {}
      },
      "source": [
        "def display_dash_board(students, Marks):\n",
        "  tt= sorted(Marks,reverse=True)\n",
        "  lt= sorted(Marks,reverse=False)\n",
        "  i=0\n",
        "  v=0\n",
        "  top_5_students=[]\n",
        "  least_5_students=[]\n",
        "  students_within_25_and_75=[]\n",
        "  dict={}\n",
        "  ts=[]\n",
        "  ls =[]\n",
        "  ps=[]\n",
        "  for j in range(len(Marks)):\n",
        "    dict[students[j]]= Marks[j]\n",
        "  for i in range(5):\n",
        "    ts.append(tt[i])\n",
        "    ls.append(lt[i])\n",
        "  for x in range(3,8):\n",
        "    ps.append(tt[x])\n",
        "  for l in range(5):\n",
        "    a=[k for k,v in dict.items() if ts [l] == v ]\n",
        "    b=[k for k,v in dict.items() if ls [l] == v ]\n",
        "    c=[k for k,v in dict.items() if ps [l] == v ]\n",
        "    top_5_students.append(a)\n",
        "    least_5_students.append(b)\n",
        "    students_within_25_and_75.append(c)\n",
        "  return top_5_students, least_5_students,students_within_25_and_75"
      ],
      "execution_count": 0,
      "outputs": []
    },
    {
      "cell_type": "code",
      "metadata": {
        "id": "KJrovZj8MgCB",
        "colab_type": "code",
        "outputId": "4b3b58bb-4b5c-49a2-f1c1-d4042bba93c2",
        "colab": {
          "base_uri": "https://localhost:8080/",
          "height": 70
        }
      },
      "source": [
        "Students=['student1','student2','student3','student4','student5','student6','student7','student8','student9','student10']\n",
        "Marks = [45, 78, 12, 14, 48, 43, 47, 98, 35, 80]\n",
        "display_dash_board(Students, Marks)"
      ],
      "execution_count": 0,
      "outputs": [
        {
          "output_type": "execute_result",
          "data": {
            "text/plain": [
              "([['student8'], ['student10'], ['student2'], ['student5'], ['student7']],\n",
              " [['student3'], ['student4'], ['student9'], ['student6'], ['student1']],\n",
              " [['student5'], ['student7'], ['student1'], ['student6'], ['student9']])"
            ]
          },
          "metadata": {
            "tags": []
          },
          "execution_count": 107
        }
      ]
    },
    {
      "cell_type": "code",
      "metadata": {
        "id": "8vcW9npXMguL",
        "colab_type": "code",
        "outputId": "96bd0aa2-1c40-44bf-c441-e06d42acf972",
        "colab": {
          "base_uri": "https://localhost:8080/",
          "height": 34
        }
      },
      "source": [
        "ts"
      ],
      "execution_count": 0,
      "outputs": [
        {
          "output_type": "execute_result",
          "data": {
            "text/plain": [
              "[98, 80, 78, 48, 47]"
            ]
          },
          "metadata": {
            "tags": []
          },
          "execution_count": 105
        }
      ]
    },
    {
      "cell_type": "markdown",
      "metadata": {
        "id": "_gvJK3dTjYag",
        "colab_type": "text"
      },
      "source": [
        "<h3> Q5: Find the closest points</h3>\n",
        "\n",
        "Consider you are given n data points in the form of list of tuples like S=[(x1,y1),(x2,y2),(x3,y3),(x4,y4),(x5,y5),..,(xn,yn)] and a point P=(p,q) <br> your task is to find 5 closest points(based on cosine distance) in S from P\n",
        "\n",
        "<br>Cosine distance between two points (x,y) and (p,q) is defined as $cos^{-1}(\\frac{(x\\cdot p+y\\cdot q)}{\\sqrt(x^2+y^2)\\cdot\\sqrt(p^2+q^2)})$\n",
        "<pre>\n",
        "Ex:\n",
        "\n",
        "S= [(1,2),(3,4),(-1,1),(6,-7),(0, 6),(-5,-8),(-1,-1)(6,0),(1,-1)]\n",
        "P= (3,-4)\n",
        "<img src='https://i.imgur.com/vIFPOcG.jpg', width=300>\n",
        "Output:\n",
        "(6,-7)\n",
        "(1,-1)\n",
        "(6,0)\n",
        "(-5,-8)\n",
        "(-1,-1)\n",
        "</pre>"
      ]
    },
    {
      "cell_type": "code",
      "metadata": {
        "id": "FrcnAYvzVssr",
        "colab_type": "code",
        "colab": {}
      },
      "source": [
        "\n",
        "import math\n",
        "p=3\n",
        "q=-4\n",
        "r=[]\n",
        "a=[]\n",
        "b=[]\n",
        "l=0\n",
        "k=0\n",
        "v=0\n",
        "dict={}\n",
        "\n",
        "S= [(1,2),(3,4),(-1,1),(6,-7),(0,6),(-5,-8),(-1,-1),(6,0),(1,-1)]\n",
        "for i in range(len(S)):\n",
        "  r.append(math.acos(((S[i][0]*p)+(S[i][1]*q))/(math.sqrt((S[i][0]**2)+(S[i][1]**2))*(math.sqrt(p**2+q**2)))))\n",
        "for j in range(len(S)):\n",
        "  dict[r[j]]=S[j]\n",
        "a=sorted(r)\n",
        "for l in range(5):\n",
        "  b.append([v for k,v in dict.items() if a[l]== k])\n"
      ],
      "execution_count": 0,
      "outputs": []
    },
    {
      "cell_type": "code",
      "metadata": {
        "id": "qg--OCztt4v3",
        "colab_type": "code",
        "outputId": "6fb27af9-b620-45c6-a606-a1470580ee45",
        "colab": {
          "base_uri": "https://localhost:8080/",
          "height": 34
        }
      },
      "source": [
        "b"
      ],
      "execution_count": 0,
      "outputs": [
        {
          "output_type": "execute_result",
          "data": {
            "text/plain": [
              "[[(6, -7)], [(1, -1)], [(6, 0)], [(-5, -8)], [(-1, -1)]]"
            ]
          },
          "metadata": {
            "tags": []
          },
          "execution_count": 37
        }
      ]
    },
    {
      "cell_type": "code",
      "metadata": {
        "id": "bUCQNk_bjYaj",
        "colab_type": "code",
        "colab": {}
      },
      "source": [
        "import math\n",
        "\n",
        "# write your python code here\n",
        "# you can take the above example as sample input for your program to test\n",
        "# it should work for any general input try not to hard code for only given input examples\n",
        "# you can free to change all these codes/structure\n",
        "\n",
        "\n",
        "# here S is list of tuples and P is a tuple ot len=2\n",
        "def closest_points_to_p(S, P):\n",
        "    # write your code here\n",
        "    return closest_points_to_p  # its list of tuples\n",
        "\n",
        "S= [(1,2),(3,4),(-1,1),(6,-7),(0, 6),(-5,-8),(-1,-1)(6,0),(1,-1)]\n",
        "P= (3,-4)\n",
        "points = closest_points_to_p(S, P)\n",
        "print() #print the returned values"
      ],
      "execution_count": 0,
      "outputs": []
    },
    {
      "cell_type": "markdown",
      "metadata": {
        "id": "vj9AzqLljYap",
        "colab_type": "text"
      },
      "source": [
        "<h3> Q6: Find which line separates oranges and apples</h3>\n",
        "\n",
        "Consider you are given two set of data points in the form of list of tuples like \n",
        "<pre>\n",
        "Red =[(R11,R12),(R21,R22),(R31,R32),(R41,R42),(R51,R52),..,(Rn1,Rn2)]\n",
        "Blue=[(B11,B12),(B21,B22),(B31,B32),(B41,B42),(B51,B52),..,(Bm1,Bm2)]\n",
        "</pre>\n",
        "and set of line equations(in the string format, i.e list of strings)\n",
        "<pre>\n",
        "Lines = [a1x+b1y+c1,a2x+b2y+c2,a3x+b3y+c3,a4x+b4y+c4,..,K lines]\n",
        "Note: You need to do string parsing here and get the coefficients of x,y and intercept.\n",
        "</pre>\n",
        "Your task here is to print \"YES\"/\"NO\" for each line given. You should print YES, if all the red points are one side of the line and blue points are on other side of the line, otherwise you should print NO.\n",
        "<pre>\n",
        "Ex:\n",
        "Red= [(1,1),(2,1),(4,2),(2,4), (-1,4)]\n",
        "Blue= [(-2,-1),(-1,-2),(-3,-2),(-3,-1),(1,-3)]\n",
        "Lines=[\"1x+1y+0\",\"1x-1y+0\",\"1x+0y-3\",\"0x+1y-0.5\"]\n",
        "<img src='https://i.imgur.com/DoQf7mE.jpg' width=400>\n",
        "Output:\n",
        "YES\n",
        "NO\n",
        "NO\n",
        "YES\n",
        "</pre>"
      ]
    },
    {
      "cell_type": "code",
      "metadata": {
        "id": "AVfU9CKZjYar",
        "colab_type": "code",
        "colab": {}
      },
      "source": [
        "import math\n",
        "# write your python code here\n",
        "# you can take the above example as sample input for your program to test\n",
        "# it should work for any general input try not to hard code for only given input strings\n",
        "\n",
        "\n",
        "# you can free to change all these codes/structure\n",
        "def i_am_the_one(red,blue,line):\n",
        "    # your code\n",
        "    return #yes/no\n",
        "\n",
        "Red= [(1,1),(2,1),(4,2),(2,4), (-1,4)]\n",
        "Blue= [(-2,-1),(-1,-2),(-3,-2),(-3,-1),(1,-3)]\n",
        "Lines=[\"1x+1y+0\",\"1x-1y+0\",\"1x+0y-3\",\"0x+1y-0.5\"]\n",
        "\n",
        "for i in Lines:\n",
        "    yes_or_no = i_am_the_one(Red, Blue, i)\n",
        "    print() # the returned value"
      ],
      "execution_count": 0,
      "outputs": []
    },
    {
      "cell_type": "code",
      "metadata": {
        "id": "Ir0jh52Sn2BS",
        "colab_type": "code",
        "colab": {}
      },
      "source": [
        "Red= [(1,1),(2,1),(4,2),(2,4), (-1,4)]\n",
        "Blue= [(-2,-1),(-1,-2),(-3,-2),(-3,-1),(1,-3)]\n",
        "L=[\"1x+1y+0\",\"1x-1y+0\",\"1x+0y-3\",\"0x+1y-0.5\"]"
      ],
      "execution_count": 0,
      "outputs": []
    },
    {
      "cell_type": "code",
      "metadata": {
        "id": "0sknC1ctn2lR",
        "colab_type": "code",
        "colab": {}
      },
      "source": [
        "a=[]\n",
        "r=[]\n",
        "b=[]\n",
        "d=[]\n",
        "k=0\n",
        "j=0\n",
        "for i in range(len(L)):\n",
        "  a.append(L[i].split(\"x\"))\n",
        "  a[i].extend(a[i][1].split(\"y\"))\n",
        "  del a[i][1]\n",
        "\n"
      ],
      "execution_count": 0,
      "outputs": []
    },
    {
      "cell_type": "code",
      "metadata": {
        "id": "DTMG0jZh6z9k",
        "colab_type": "code",
        "colab": {}
      },
      "source": [
        "e=[]\n",
        "d=[]\n",
        "k=0\n",
        "for k in range(len(a)):\n",
        "  r=[]\n",
        "  b=[]\n",
        "  for j in range(len(Red)):\n",
        "    r.append ( (float(a[k][0]) * Red[j][0]) + ( float(a[k][1]) * Red[j][1] ) + float(a[k][2])  )\n",
        "    b.append ( (float(a[k][0]) * Blue[j][0]) + ( float(a[0][1]) * Blue[j][1] ) + float(a[0][2])  )\n",
        "  d.append(r)\n",
        "  e.append(b) \n",
        "    "
      ],
      "execution_count": 0,
      "outputs": []
    },
    {
      "cell_type": "code",
      "metadata": {
        "id": "spKITZAdEa5z",
        "colab_type": "code",
        "outputId": "1b9e9f2c-b8b6-4f9c-c9d3-90454278d124",
        "colab": {
          "base_uri": "https://localhost:8080/",
          "height": 87
        }
      },
      "source": [
        "x=0\n",
        "m=0\n",
        "l=0\n",
        "for m in range(len(a)):\n",
        "  for l in range((len(d[0])-1)):\n",
        "    if ((d[m][l]>0 and d[m][l+1]>0) or (d[m][l]<0 and d[m][l+1]<0)) and ((e[m][l]>0 and e[m][l+1]>0) or (e[m][l]<0 and e[m][l+1]<0)):\n",
        "      x=0\n",
        "    else:\n",
        "      x=1\n",
        "      break\n",
        "  if x==0:\n",
        "    print(\"{}    can divide red and blue\".format(L[m]))\n",
        "  else:\n",
        "    print(\"{}    can not divide red and blue\".format(L[m]))\n"
      ],
      "execution_count": 0,
      "outputs": [
        {
          "output_type": "stream",
          "text": [
            "1x+1y+0    can divide red and blue\n",
            "1x-1y+0    can not divide red and blue\n",
            "1x+0y-3    can not divide red and blue\n",
            "0x+1y-0.5    can divide red and blue\n"
          ],
          "name": "stdout"
        }
      ]
    },
    {
      "cell_type": "code",
      "metadata": {
        "id": "-Bw8J84EwrQZ",
        "colab_type": "code",
        "colab": {}
      },
      "source": [
        ""
      ],
      "execution_count": 0,
      "outputs": []
    },
    {
      "cell_type": "markdown",
      "metadata": {
        "id": "02InoHvajYa2",
        "colab_type": "text"
      },
      "source": [
        "<h3> Q7: Filling the missing values in the specified format</h3>\n",
        "\n",
        "You will be given a string with digits and '\\_'(missing value) symbols you have to replace the '\\_' symbols as explained \n",
        "\n",
        "<pre>\n",
        "Ex 1: _, _, _, 24 ==> 24/4, 24/4, 24/4, 24/4 i.e we. have distributed the 24 equally to all 4 places <br>\n",
        "Ex 2: 40, _, _, _, 60 ==> (60+40)/5,(60+40)/5,(60+40)/5,(60+40)/5,(60+40)/5 ==> 20, 20, 20, 20, 20 i.e. the sum of (60+40) is distributed qually to all 5 places<br>\n",
        "Ex 3: 80, _, _, _, _  ==> 80/5,80/5,80/5,80/5,80/5 ==> 16, 16, 16, 16, 16 i.e. the 80 is distributed qually to all 5 missing values that are right to it<br>\n",
        "Ex 4: _, _, 30, _, _, _, 50, _, _  \n",
        "==> we will fill the missing values from left to right \n",
        "    a. first we will distribute the 30 to left two missing values (10, 10, 10, _, _, _, 50, _, _)\n",
        "    b. now distribute the sum (10+50) missing values in between (10, 10, 12, 12, 12, 12, 12, _, _) \n",
        "    c. now we will distribute 12 to right side missing values (10, 10, 12, 12, 12, 12, 4, 4, 4)\n",
        "</pre>\n",
        "for a given string with comma seprate values, which will have both missing values numbers like ex: \"_, _, x, _, _, _\"\n",
        "you need fill the missing values\n",
        "\n",
        "Q: your program reads a string like ex: \"_, _, x, _, _, _\" and returns the filled sequence\n",
        "\n",
        "Ex: \n",
        "<pre>\n",
        "Input1: \"_,_,_,24\"\n",
        "Output1: 6,6,6,6\n",
        "\n",
        "Input2: \"40,_,_,_,60\"\n",
        "Output2: 20,20,20,20,20\n",
        "\n",
        "Input3: \"80,_,_,_,_\"\n",
        "Output3: 16,16,16,16,16\n",
        "\n",
        "Input4: \"_,_,30,_,_,_,50,_,_\"\n",
        "Output4: 10,10,12,12,12,12,4,4,4\n",
        "</pre>\n",
        "\n"
      ]
    },
    {
      "cell_type": "code",
      "metadata": {
        "id": "sgCnLZm9jYa5",
        "colab_type": "code",
        "colab": {}
      },
      "source": [
        "# write your python code here\n",
        "# you can take the above example as sample input for your program to test\n",
        "# it should work for any general input try not to hard code for only given input strings\n",
        "\n",
        "\n",
        "# you can free to change all these codes/structure\n",
        "def curve_smoothing(string):\n",
        "    # your code\n",
        "    return #list of values\n",
        "\n",
        "S=  \"_,_,30,_,_,_,50,_,_\"\n",
        "smoothed_values= curve_smoothing(S)\n",
        "print(# print above values)"
      ],
      "execution_count": 0,
      "outputs": []
    },
    {
      "cell_type": "code",
      "metadata": {
        "id": "ow7M1kgnvcCt",
        "colab_type": "code",
        "colab": {}
      },
      "source": [
        "def curve_smoothing(string):\n",
        "  s1=string.replace(\"_\",\"0\")\n",
        "  c=s1.split(\",\")\n",
        "  a=list(map((lambda x:int(x) ),c))\n",
        "\n",
        "  b=0\n",
        "  l=0\n",
        "  flag=0\n",
        "  j=1\n",
        "  for i in range(len(a)):\n",
        "    if a[i]!=0:\n",
        "      b=b+a[i]\n",
        "      l=l+1\n",
        "      d=b/l\n",
        "      e=i\n",
        "      flag +=1\n",
        "      if flag==2:\n",
        "        for k in range(l):\n",
        "            a[e]=d\n",
        "            e=e-1\n",
        "            b=a[e+1]\n",
        "            flag=0\n",
        "            j=0\n",
        "\n",
        "    else:\n",
        "      l=l+1\n",
        "      if i==0:\n",
        "        flag+=1\n",
        "      elif i == (len(a)-1):\n",
        "        d=b/l\n",
        "        e=i\n",
        "        for k in range(l):\n",
        "            a[e]=d\n",
        "            e=e-1\n",
        "      elif j==0:\n",
        "        flag+=1\n",
        "        l=2  \n",
        "        j=1\n",
        "        \n",
        "                  \n",
        "  return print (a)"
      ],
      "execution_count": 0,
      "outputs": []
    },
    {
      "cell_type": "code",
      "metadata": {
        "id": "TCJy8aAMkG8b",
        "colab_type": "code",
        "colab": {}
      },
      "source": [
        "S1= \"_,_,_,24\"\n",
        "#Output1: 6,6,6,6\n",
        "\n",
        "s2= \"40,_,_,_,60\"\n",
        "#Output2: 20,20,20,20,20\n",
        "\n",
        "s3= \"80,_,_,_,_\"\n",
        "#Output3: 16,16,16,16,16\n",
        "\n",
        "s4= \"_,_,30,_,_,_,50,_,_\"\n",
        "#Output4: 10,10,12,12,12,12,4,4,4"
      ],
      "execution_count": 0,
      "outputs": []
    },
    {
      "cell_type": "code",
      "metadata": {
        "id": "Bj3UQ_DYwWWj",
        "colab_type": "code",
        "outputId": "4ae3f019-d06d-48b5-dd1c-3809494dcdf6",
        "colab": {
          "base_uri": "https://localhost:8080/",
          "height": 34
        }
      },
      "source": [
        "#S1= \"_,_,_,24\"\n",
        "#Output1: 6,6,6,6\n",
        "smoothed_values= curve_smoothing(S1)\n",
        "smoothed_values"
      ],
      "execution_count": 27,
      "outputs": [
        {
          "output_type": "stream",
          "text": [
            "[6.0, 6.0, 6.0, 6.0]\n"
          ],
          "name": "stdout"
        }
      ]
    },
    {
      "cell_type": "code",
      "metadata": {
        "id": "mFlBn0chWW0J",
        "colab_type": "code",
        "colab": {
          "base_uri": "https://localhost:8080/",
          "height": 34
        },
        "outputId": "0e2f6272-c8e1-4aed-a2c3-7819c18ab228"
      },
      "source": [
        "#s2= \"40,_,_,_,60\"\n",
        "#Output2: 20,20,20,20,20\n",
        "smoothed_values= curve_smoothing(s2)\n",
        "smoothed_values"
      ],
      "execution_count": 28,
      "outputs": [
        {
          "output_type": "stream",
          "text": [
            "[20.0, 20.0, 20.0, 20.0, 20.0]\n"
          ],
          "name": "stdout"
        }
      ]
    },
    {
      "cell_type": "code",
      "metadata": {
        "id": "xHZB7RtWgEgh",
        "colab_type": "code",
        "colab": {
          "base_uri": "https://localhost:8080/",
          "height": 34
        },
        "outputId": "838fb216-123d-4e92-fd38-5e6db3dcf0e2"
      },
      "source": [
        "#s3= \"80,_,_,_,_\"\n",
        "#Output3: 16,16,16,16,16\n",
        "smoothed_values= curve_smoothing(s3)\n",
        "smoothed_values"
      ],
      "execution_count": 29,
      "outputs": [
        {
          "output_type": "stream",
          "text": [
            "[16.0, 16.0, 16.0, 16.0, 16.0]\n"
          ],
          "name": "stdout"
        }
      ]
    },
    {
      "cell_type": "code",
      "metadata": {
        "id": "xJOEwyivkvL2",
        "colab_type": "code",
        "colab": {
          "base_uri": "https://localhost:8080/",
          "height": 34
        },
        "outputId": "30230284-f1d1-43d8-8b0b-2be0efe0dbc5"
      },
      "source": [
        "#s4= \"_,_,30,_,_,_,50,_,_\"\n",
        "#Output4: 10,10,12,12,12,12,4,4,4\n",
        "smoothed_values= curve_smoothing(s4)\n",
        "smoothed_values"
      ],
      "execution_count": 30,
      "outputs": [
        {
          "output_type": "stream",
          "text": [
            "[10.0, 10.0, 12.0, 12.0, 12.0, 12.0, 4.0, 4.0, 4.0]\n"
          ],
          "name": "stdout"
        }
      ]
    },
    {
      "cell_type": "markdown",
      "metadata": {
        "id": "XF4Lo4SHjYbA",
        "colab_type": "text"
      },
      "source": [
        "<h3> Q8: Find the probabilities</h3>\n",
        "\n",
        "You will be given a list of lists, each sublist will be of length 2 i.e. [[x,y],[p,q],[l,m]..[r,s]]\n",
        "consider its like a martrix of n rows and two columns\n",
        "1. The first column F will contain only 5 uniques values (F1, F2, F3, F4, F5)\n",
        "2. The second column S will contain only 3 uniques values (S1, S2, S3)\n",
        "<pre>\n",
        "your task is to find\n",
        "a. Probability of P(F=F1|S==S1), P(F=F1|S==S2), P(F=F1|S==S3)\n",
        "b. Probability of P(F=F2|S==S1), P(F=F2|S==S2), P(F=F2|S==S3)\n",
        "c. Probability of P(F=F3|S==S1), P(F=F3|S==S2), P(F=F3|S==S3)\n",
        "d. Probability of P(F=F4|S==S1), P(F=F4|S==S2), P(F=F4|S==S3)\n",
        "e. Probability of P(F=F5|S==S1), P(F=F5|S==S2), P(F=F5|S==S3)\n",
        "</pre>\n",
        "Ex:\n",
        "\n",
        "<pre>\n",
        "[[F1,S1],[F2,S2],[F3,S3],[F1,S2],[F2,S3],[F3,S2],[F2,S1],[F4,S1],[F4,S3],[F5,S1]]\n",
        "\n",
        "a. P(F=F1|S==S1)=1/4, P(F=F1|S==S2)=1/3, P(F=F1|S==S3)=0/3\n",
        "b. P(F=F2|S==S1)=1/4, P(F=F2|S==S2)=1/3, P(F=F2|S==S3)=1/3\n",
        "c. P(F=F3|S==S1)=0/4, P(F=F3|S==S2)=1/3, P(F=F3|S==S3)=1/3\n",
        "d. P(F=F4|S==S1)=1/4, P(F=F4|S==S2)=0/3, P(F=F4|S==S3)=1/3\n",
        "e. P(F=F5|S==S1)=1/4, P(F=F5|S==S2)=0/3, P(F=F5|S==S3)=0/3\n",
        "</pre>\n",
        "\n"
      ]
    },
    {
      "cell_type": "code",
      "metadata": {
        "id": "dAHyz3QCjYbC",
        "colab_type": "code",
        "colab": {}
      },
      "source": [
        "# write your python code here\n",
        "# you can take the above example as sample input for your program to test\n",
        "# it should work for any general input try not to hard code for only given input strings\n",
        "\n",
        "\n",
        "\n",
        "# you can free to change all these codes/structure\n",
        "def compute_conditional_probabilites(A):\n",
        "    # your code\n",
        "    # print the output as per the instructions\n",
        "\n",
        "A = [[F1,S1],[F2,S2],[F3,S3],[F1,S2],[F2,S3],[F3,S2],[F2,S1],[F4,S1],[F4,S3],[F5,S1]]\n",
        "compute_conditional_probabilites(A)"
      ],
      "execution_count": 0,
      "outputs": []
    },
    {
      "cell_type": "code",
      "metadata": {
        "id": "Qgi31QBRn50z",
        "colab_type": "code",
        "colab": {}
      },
      "source": [
        "A =[[\"F1\",'S1'],['F2','S2'],['F3','S3'],['F1','S2'],['F2','S3'],['F3','S2'],['F2','S1'],['F4','S1'],['F4','S3'],['F5','S1']]\n"
      ],
      "execution_count": 0,
      "outputs": []
    },
    {
      "cell_type": "markdown",
      "metadata": {
        "id": "aAfa7qSeyUjI",
        "colab_type": "text"
      },
      "source": [
        ""
      ]
    },
    {
      "cell_type": "code",
      "metadata": {
        "id": "rAuUH0zHn5_L",
        "colab_type": "code",
        "colab": {}
      },
      "source": [
        "b=[]\n",
        "for i  in range(len(A)):\n",
        "  b.append(tuple((A[i])))"
      ],
      "execution_count": 0,
      "outputs": []
    },
    {
      "cell_type": "code",
      "metadata": {
        "id": "QJCz0IHG6c2l",
        "colab_type": "code",
        "outputId": "635be241-89e2-4d85-878f-1f609fd5e68e",
        "colab": {
          "base_uri": "https://localhost:8080/",
          "height": 194
        }
      },
      "source": [
        "c=0\n",
        "d=0\n",
        "for i in range(len(b)):\n",
        "  for j in range(len(b)):\n",
        "    if b[i][1]==(b[j][1]):\n",
        "      d += 1\n",
        "  c=(b.count(b[i])/d)\n",
        "  print(\"probability of{0}={1}   {2}\".format(b[i],c,d))\n",
        "  d=0\n",
        "  \n",
        "  "
      ],
      "execution_count": 0,
      "outputs": [
        {
          "output_type": "stream",
          "text": [
            "probability of('F1', 'S1')=0.25   4\n",
            "probability of('F2', 'S2')=0.3333333333333333   3\n",
            "probability of('F3', 'S3')=0.3333333333333333   3\n",
            "probability of('F1', 'S2')=0.3333333333333333   3\n",
            "probability of('F2', 'S3')=0.3333333333333333   3\n",
            "probability of('F3', 'S2')=0.3333333333333333   3\n",
            "probability of('F2', 'S1')=0.25   4\n",
            "probability of('F4', 'S1')=0.25   4\n",
            "probability of('F4', 'S3')=0.3333333333333333   3\n",
            "probability of('F5', 'S1')=0.25   4\n"
          ],
          "name": "stdout"
        }
      ]
    },
    {
      "cell_type": "code",
      "metadata": {
        "id": "-s_-uunN6dEn",
        "colab_type": "code",
        "outputId": "2da05e5d-4ed6-4f4f-a824-4433709ca04d",
        "colab": {
          "base_uri": "https://localhost:8080/",
          "height": 34
        }
      },
      "source": [
        ""
      ],
      "execution_count": 0,
      "outputs": [
        {
          "output_type": "execute_result",
          "data": {
            "text/plain": [
              "'S1'"
            ]
          },
          "metadata": {
            "tags": []
          },
          "execution_count": 410
        }
      ]
    },
    {
      "cell_type": "code",
      "metadata": {
        "id": "4qqPHqFizqVT",
        "colab_type": "code",
        "outputId": "8be1e674-f8ce-44cc-894d-cec0e9c6ae28",
        "colab": {
          "base_uri": "https://localhost:8080/",
          "height": 132
        }
      },
      "source": [
        "for j in range(len(b)):\n",
        "  str(ci)=[]"
      ],
      "execution_count": 0,
      "outputs": [
        {
          "output_type": "error",
          "ename": "SyntaxError",
          "evalue": "ignored",
          "traceback": [
            "\u001b[0;36m  File \u001b[0;32m\"<ipython-input-396-2a77096398be>\"\u001b[0;36m, line \u001b[0;32m2\u001b[0m\n\u001b[0;31m    str(ci)=[]\u001b[0m\n\u001b[0m    ^\u001b[0m\n\u001b[0;31mSyntaxError\u001b[0m\u001b[0;31m:\u001b[0m can't assign to function call\n"
          ]
        }
      ]
    },
    {
      "cell_type": "code",
      "metadata": {
        "id": "DdCt_SA4zqdM",
        "colab_type": "code",
        "colab": {}
      },
      "source": [
        ""
      ],
      "execution_count": 0,
      "outputs": []
    },
    {
      "cell_type": "code",
      "metadata": {
        "id": "fjh__fOYzqnh",
        "colab_type": "code",
        "colab": {}
      },
      "source": [
        ""
      ],
      "execution_count": 0,
      "outputs": []
    },
    {
      "cell_type": "markdown",
      "metadata": {
        "id": "nsPKr51cjYbJ",
        "colab_type": "text"
      },
      "source": [
        "<h3> Q9: Operations on sentences </h3>\n",
        "\n",
        "You will be given two sentances S1, S2 your task is to find \n",
        "<pre>\n",
        "a. Number of common words between S1, S2\n",
        "b. Words in S1 but not in S2\n",
        "c. Words in S2 but not in S1\n",
        "</pre>\n",
        "\n",
        "Ex: \n",
        "<pre>\n",
        "S1= \"the first column F will contain only 5 unique values\"\n",
        "S2= \"the second column S will contain only 3 unique values\"\n",
        "Output:\n",
        "a. 7\n",
        "b. ['first','F','5']\n",
        "c. ['second','S','3']\n",
        "</pre>"
      ]
    },
    {
      "cell_type": "code",
      "metadata": {
        "id": "xI5sG5ymjYbK",
        "colab_type": "code",
        "colab": {}
      },
      "source": [
        "# write your python code here\n",
        "# you can take the above example as sample input for your program to test\n",
        "# it should work for any general input try not to hard code for only given input strings\n",
        "\n",
        "# you can free to change all these codes/structure\n",
        "def string_features(S1, S2):\n",
        "    # your code\n",
        "    return a, b, c\n",
        "\n",
        "S1= \"the first column F will contain only 5 uniques values\"\n",
        "S2= \"the second column S will contain only 3 uniques values\"\n",
        "a,b,c = string_features(S1, S2)\n",
        "print(#the above values)"
      ],
      "execution_count": 0,
      "outputs": []
    },
    {
      "cell_type": "code",
      "metadata": {
        "id": "PtK27g-ZbbcJ",
        "colab_type": "code",
        "colab": {}
      },
      "source": [
        "P1= \"the first column F will contain only 5 uniques values\"\n",
        "P2= \"the second column S will contain only 3 uniques values\""
      ],
      "execution_count": 0,
      "outputs": []
    },
    {
      "cell_type": "code",
      "metadata": {
        "id": "y-H-cYqGaxCz",
        "colab_type": "code",
        "colab": {}
      },
      "source": [
        "\n",
        "def string_features(S1, S2):\n",
        "  a=set(S1.split(\" \"))\n",
        "  b=set(S2.split(\" \"))\n",
        "  return len(a.intersection(b)),a-b,b-a"
      ],
      "execution_count": 0,
      "outputs": []
    },
    {
      "cell_type": "code",
      "metadata": {
        "id": "8XisjjqAbIaT",
        "colab_type": "code",
        "outputId": "c19841e3-f377-4aa0-ba69-f2d540fd7d16",
        "colab": {
          "base_uri": "https://localhost:8080/",
          "height": 70
        }
      },
      "source": [
        "e,d,f = string_features(P1, P2)\n",
        "print(\"a. Number of common words between S1, S2:{0} \\nb. Words in S1 but not in S2 {1} \\nc. Words in S2 but not in S1{2}\".format(e,d,f))\n"
      ],
      "execution_count": 0,
      "outputs": [
        {
          "output_type": "stream",
          "text": [
            "a. Number of common words between S1, S2:7 \n",
            "b. Words in S1 but not in S2 {'F', '5', 'first'} \n",
            "c. Words in S2 but not in S1{'3', 'S', 'second'}\n"
          ],
          "name": "stdout"
        }
      ]
    },
    {
      "cell_type": "code",
      "metadata": {
        "id": "S2S7fA4oefFV",
        "colab_type": "code",
        "outputId": "9f1f02b6-6d37-4d67-960d-2f9040094ebf",
        "colab": {
          "base_uri": "https://localhost:8080/",
          "height": 34
        }
      },
      "source": [
        "d"
      ],
      "execution_count": 0,
      "outputs": [
        {
          "output_type": "execute_result",
          "data": {
            "text/plain": [
              "{'5', 'F', 'first'}"
            ]
          },
          "metadata": {
            "tags": []
          },
          "execution_count": 334
        }
      ]
    },
    {
      "cell_type": "markdown",
      "metadata": {
        "id": "_X-wYQJTjYbQ",
        "colab_type": "text"
      },
      "source": [
        "\n",
        "<h3> Q10: Error Function</h3>\n",
        "\n",
        "You will be given a list of lists, each sublist will be of length 2 i.e. [[x,y],[p,q],[l,m]..[r,s]]\n",
        "consider its like a martrix of n rows and two columns\n",
        "\n",
        "a. the first column Y will contain interger values <br>\n",
        "b. the second column $Y_{score}$ will be having float values <br>\n",
        "Your task is to find the value of $f(Y,Y_{score}) = -1*\\frac{1}{n}\\Sigma_{for each Y,Y_{score} pair}(Ylog10(Y_{score})+(1-Y)log10(1-Y_{score}))$ here n is the number of rows in the matrix\n",
        "<pre>\n",
        "Ex:\n",
        "[[1, 0.4], [0, 0.5], [0, 0.9], [0, 0.3], [0, 0.6], [1, 0.1], [1, 0.9], [1, 0.8]]\n",
        "output:\n",
        "0.44982\n",
        "</pre>\n",
        "$\\frac{-1}{8}\\cdot((1\\cdot log_{10}(0.4)+0\\cdot log_{10}(0.6))+(0\\cdot log_{10}(0.5)+1\\cdot log_{10}(0.5)) + ... + (1\\cdot log_{10}(0.8)+0\\cdot log_{10}(0.2)) )$"
      ]
    },
    {
      "cell_type": "code",
      "metadata": {
        "id": "XOzxWbDijYbS",
        "colab_type": "code",
        "colab": {}
      },
      "source": [
        "# write your python code here\n",
        "# you can take the above example as sample input for your program to test\n",
        "# it should work for any general input try not to hard code for only given input strings\n",
        "\n",
        "\n",
        "# you can free to change all these codes/structure\n",
        "def compute_log_loss(A):\n",
        "    # your code\n",
        "    \n",
        "    return loss\n",
        "\n",
        "A = [[1, 0.4], [0, 0.5], [0, 0.9], [0, 0.3], [0, 0.6], [1, 0.1], [1, 0.9], [1, 0.8]]\n",
        "loss = compute_log_loss(A)\n",
        "print(# the above loss)"
      ],
      "execution_count": 0,
      "outputs": []
    },
    {
      "cell_type": "code",
      "metadata": {
        "id": "Zi4_4XozyDx2",
        "colab_type": "code",
        "colab": {}
      },
      "source": [
        ""
      ],
      "execution_count": 0,
      "outputs": []
    },
    {
      "cell_type": "code",
      "metadata": {
        "id": "RvLPjl57tbsz",
        "colab_type": "code",
        "colab": {}
      },
      "source": [
        "def compute_log_loss(b):\n",
        "  import math\n",
        "  c=0\n",
        "  for i in range(len(b)):\n",
        "    c = c+ (((b[i][0]) * math.log10(b[i][1]))+ ((1-(b[i][0])) * math.log10(1-(b[i][1]))))\n",
        "  a= ( -1/len(b) ) \n",
        "  d=a*c\n",
        "  return d"
      ],
      "execution_count": 0,
      "outputs": []
    },
    {
      "cell_type": "code",
      "metadata": {
        "id": "BuCYuVJWx6r3",
        "colab_type": "code",
        "colab": {}
      },
      "source": [
        "b=[[1, 0.4], [0, 0.5], [0, 0.9], [0, 0.3], [0, 0.6], [1, 0.1], [1, 0.9], [1, 0.8]]\n",
        "loss = compute_log_loss(b)"
      ],
      "execution_count": 0,
      "outputs": []
    },
    {
      "cell_type": "code",
      "metadata": {
        "id": "04wFxvK6yd9r",
        "colab_type": "code",
        "outputId": "646dc040-de88-4433-e6b7-1b143d58c0c9",
        "colab": {
          "base_uri": "https://localhost:8080/",
          "height": 34
        }
      },
      "source": [
        "loss"
      ],
      "execution_count": 0,
      "outputs": [
        {
          "output_type": "execute_result",
          "data": {
            "text/plain": [
              "0.42430993457031635"
            ]
          },
          "metadata": {
            "tags": []
          },
          "execution_count": 311
        }
      ]
    },
    {
      "cell_type": "code",
      "metadata": {
        "id": "G2dla1RMyfIL",
        "colab_type": "code",
        "colab": {}
      },
      "source": [
        ""
      ],
      "execution_count": 0,
      "outputs": []
    }
  ]
}